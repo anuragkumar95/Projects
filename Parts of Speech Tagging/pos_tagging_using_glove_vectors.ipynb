{
  "nbformat": 4,
  "nbformat_minor": 0,
  "metadata": {
    "colab": {
      "name": "pos_tag.ipynb",
      "version": "0.3.2",
      "provenance": [],
      "include_colab_link": true
    },
    "kernelspec": {
      "name": "python3",
      "display_name": "Python 3"
    },
    "accelerator": "GPU"
  },
  "cells": [
    {
      "cell_type": "markdown",
      "metadata": {
        "id": "view-in-github",
        "colab_type": "text"
      },
      "source": [
        "<a href=\"https://colab.research.google.com/github/anuragkumar95/Projects/blob/master/pos_tagging_using_glove_vectors.ipynb\" target=\"_parent\"><img src=\"https://colab.research.google.com/assets/colab-badge.svg\" alt=\"Open In Colab\"/></a>"
      ]
    },
    {
      "metadata": {
        "id": "xT8QgKOzIfaD",
        "colab_type": "code",
        "colab": {}
      },
      "cell_type": "code",
      "source": [
        "import numpy as np\n",
        "import pandas as pd \n",
        "import matplotlib.pyplot as plt\n",
        "import tensorflow as tf\n",
        "from nltk.corpus import treebank\n",
        "import string\n",
        "#import nltk\n",
        "#nltk.download('all')"
      ],
      "execution_count": 0,
      "outputs": []
    },
    {
      "metadata": {
        "id": "KVPvST6WL0Yy",
        "colab_type": "text"
      },
      "cell_type": "markdown",
      "source": [
        "## Glove Vectors:\n",
        "\n",
        "I am using glove vector representation of words for pos taggging. To download the vectors follow the below steps :\n",
        "  \n",
        "\n",
        "1.   \n",
        "```\n",
        "Download the glove vectors using !wget http://nlp.stanford.edu/data/glove.6B.zip\n",
        "```\n",
        "\n",
        "\n",
        "2.   \n",
        "```\n",
        "Unzip it using !unzip glove*.zip\n",
        "```\n",
        "\n",
        "\n",
        "3.   \n",
        "```\n",
        "The files are stored in \"/content/file_having_vectors.txt\" in google colab. Use this path to access the vectors.\n",
        "```\n",
        "\n",
        "\n",
        "\n",
        "\n"
      ]
    },
    {
      "metadata": {
        "id": "E9WhX_LbLObp",
        "colab_type": "code",
        "colab": {}
      },
      "cell_type": "code",
      "source": [
        "\n",
        "embeds = {}\n",
        "words = []\n",
        "f = open('/content/glove.6B.100d.txt', encoding = 'utf-8')\n",
        "for line in f:\n",
        "    values = line.split()\n",
        "    word = values[0]\n",
        "    vectors = np.asarray(values[1:], dtype='float32')\n",
        "    embeds[word] = vectors\n",
        "    words.append(word)\n",
        "f.close()\n",
        "\n",
        "words = set(words)"
      ],
      "execution_count": 0,
      "outputs": []
    },
    {
      "metadata": {
        "id": "__gLvXjeW3EL",
        "colab_type": "text"
      },
      "cell_type": "markdown",
      "source": [
        "Let's check the number of dictinct words available in Glove"
      ]
    },
    {
      "metadata": {
        "id": "uSIRL-BMVCt9",
        "colab_type": "code",
        "colab": {
          "base_uri": "https://localhost:8080/",
          "height": 34
        },
        "outputId": "ba4edff7-85dc-4f47-a131-b02e56bfb82d"
      },
      "cell_type": "code",
      "source": [
        "len(words)"
      ],
      "execution_count": 29,
      "outputs": [
        {
          "output_type": "execute_result",
          "data": {
            "text/plain": [
              "400000"
            ]
          },
          "metadata": {
            "tags": []
          },
          "execution_count": 29
        }
      ]
    },
    {
      "metadata": {
        "id": "R5ppRd92XAuT",
        "colab_type": "text"
      },
      "cell_type": "markdown",
      "source": [
        "I load the entire penntreebank corpus from nltk. Ofcourse, this data contains words whose vector represetation is not available in Glove. I simply remove such words so that I can represent each of the remaining words using Glove. \n",
        "\n",
        "I tokenize each word, change each word to its lowercase and squash it in 1D array. "
      ]
    },
    {
      "metadata": {
        "id": "vhDRD-MyLbPl",
        "colab_type": "code",
        "colab": {}
      },
      "cell_type": "code",
      "source": [
        "#Loading penntreebank corpus from nltk\n",
        "\n",
        "sentences = treebank.tagged_sents(tagset='universal')\n",
        "\n",
        "data = sum([[s[0].strip().lower() for s in word if s[0].strip().lower() in words] for word in sentences],[])\n",
        "data_labels = sum([[s[1].strip().lower() for s in word if s[0].strip().lower() in words] for word in sentences],[])\n",
        "\n",
        "tags = set(data_labels)"
      ],
      "execution_count": 0,
      "outputs": []
    },
    {
      "metadata": {
        "id": "G4_IJ-5hY-sf",
        "colab_type": "text"
      },
      "cell_type": "markdown",
      "source": [
        "Checking the vocab size after above preprocessing"
      ]
    },
    {
      "metadata": {
        "id": "oLuysciMQgei",
        "colab_type": "code",
        "colab": {
          "base_uri": "https://localhost:8080/",
          "height": 34
        },
        "outputId": "35e719bd-f1ee-45e2-e064-69719b397fd0"
      },
      "cell_type": "code",
      "source": [
        "(len(data),len(tags))"
      ],
      "execution_count": 7,
      "outputs": [
        {
          "output_type": "execute_result",
          "data": {
            "text/plain": [
              "94815"
            ]
          },
          "metadata": {
            "tags": []
          },
          "execution_count": 7
        }
      ]
    },
    {
      "metadata": {
        "id": "_4xRVbMDZK_2",
        "colab_type": "text"
      },
      "cell_type": "markdown",
      "source": [
        "I concatenate glove word embeddings of w[i-2], w[]i-1],w[i],w[i+1], w[i+2] for every word w[i]. I am using the 100d glove representation. thus, our input has the size (vocab_size, 500). "
      ]
    },
    {
      "metadata": {
        "id": "oWWQJiLgNPQ5",
        "colab_type": "code",
        "colab": {}
      },
      "cell_type": "code",
      "source": [
        "def vectors(data,labels,embeddings):\n",
        "  vectors = []\n",
        "  for i in range(2, len(data)-2):\n",
        "    if data[i] in embeddings.keys():\n",
        "      vectors.append(np.concatenate((embeddings[data[i-2]],\n",
        "                                    embeddings[data[i-1]],\n",
        "                                    embeddings[data[i]],\n",
        "                                    embeddings[data[i+1]],\n",
        "                                    embeddings[data[i+2]])))\n",
        "  return vectors "
      ],
      "execution_count": 0,
      "outputs": []
    },
    {
      "metadata": {
        "id": "v5qjzrkxWa9t",
        "colab_type": "code",
        "colab": {}
      },
      "cell_type": "code",
      "source": [
        "#one hot encodding of the labels\n",
        "def one_hot(labels,tag_list):\n",
        "  coding = {tag:i for tag,i in zip(tag_list,range(len(tag_list)))}\n",
        "  one_hot = []\n",
        "  for tag in labels:\n",
        "    temp = [0 for i in tag_list]\n",
        "    temp[coding[tag]] = 1\n",
        "    one_hot.append(temp)\n",
        "  return one_hot"
      ],
      "execution_count": 0,
      "outputs": []
    },
    {
      "metadata": {
        "id": "kup6QZUIZ4El",
        "colab_type": "text"
      },
      "cell_type": "markdown",
      "source": [
        "I keep 60,000 samples for training, 10000 samples for validation and the rest for testing. "
      ]
    },
    {
      "metadata": {
        "id": "J4eApseKPj2Q",
        "colab_type": "code",
        "colab": {}
      },
      "cell_type": "code",
      "source": [
        "train = vectors(data[:60000], data_labels[:60000], embeds)\n",
        "val = vectors(data[60000:70000], data_labels[60000:70000], embeds)\n",
        "test = vectors(data[70000:], data_labels[70000:], embeds)\n",
        "\n",
        "train_labels = one_hot(data_labels[:60000], tags)[2:-2]\n",
        "val_labels = one_hot(data_labels[60000:70000], tags)[2:-2]\n",
        "test_labels = one_hot(data_labels[70000:], tags)[2:-2]"
      ],
      "execution_count": 0,
      "outputs": []
    },
    {
      "metadata": {
        "id": "MnfoRzgxaGat",
        "colab_type": "text"
      },
      "cell_type": "markdown",
      "source": [
        "The below graph for one layer feed forward neural network has input of shape (500, ) and output of shape (12, )."
      ]
    },
    {
      "metadata": {
        "id": "r0Kw0WKLSKkC",
        "colab_type": "code",
        "colab": {}
      },
      "cell_type": "code",
      "source": [
        "input_dim = len(train[0])\n",
        "hidden_dim = 1024\n",
        "output_dim = len(tags)\n",
        "lr = 0.001\n",
        "n_epoche = 10000\n",
        "batch_size = 1250\n",
        "alpha = 0\n",
        "\n",
        "#Loading inputs and outputs\n",
        "x = tf.placeholder(tf.float32, [None, input_dim])\n",
        "y = tf.placeholder(tf.float32, [None, output_dim])\n",
        "\n",
        "\n",
        "#Weights and biases\n",
        "W = {'h1':tf.Variable(tf.random_normal([input_dim,hidden_dim])),\n",
        "     'out':tf.Variable(tf.random_normal([hidden_dim,output_dim]))\n",
        "    }\n",
        "\n",
        "b = {'b1':tf.Variable(tf.random_normal([hidden_dim])),\n",
        "     'b_out':tf.Variable(tf.random_normal([output_dim]))\n",
        "    }\n",
        "\n",
        "#forward pass\n",
        "z2 = tf.add(tf.matmul(x,W['h1']),b['b1'])\n",
        "a2 = tf.nn.tanh(z2)\n",
        "z3 = tf.add(tf.matmul(a2,W['out']),b['b_out'])\n",
        "y_pred = tf.nn.tanh(z3)\n",
        "\n",
        "\n",
        "#cost\n",
        "cost = tf.reduce_mean(tf.nn.softmax_cross_entropy_with_logits(labels = y,\\\n",
        "                                                              logits = y_pred))\n",
        "\n",
        "#optimizer\n",
        "optimizer = tf.train.AdamOptimizer(learning_rate = lr).minimize(cost)\n",
        "\n",
        "#prediction and accuracy \n",
        "pred = tf.equal(tf.argmax(y_pred,1),tf.argmax(y,1))\n",
        "accuracy = tf.reduce_mean(tf.cast(pred,tf.float32))\n"
      ],
      "execution_count": 0,
      "outputs": []
    },
    {
      "metadata": {
        "id": "uRdUEVqH-Peb",
        "colab_type": "text"
      },
      "cell_type": "markdown",
      "source": [
        "Now that our graph is ready, let's run it! The training happens over 10k iterations."
      ]
    },
    {
      "metadata": {
        "id": "Q2nJssACX84E",
        "colab_type": "code",
        "colab": {}
      },
      "cell_type": "code",
      "source": [
        "#initializing\n",
        "saver = tf.train.Saver()\n",
        "hist = {'train_loss':[], 'val_loss':[], 'train_acc':[], 'val_acc':[]}\n",
        "init = tf.initialize_all_variables()\n",
        "print(\"Starting computation....\")\n",
        "sess = tf.Session()\n",
        "\n",
        "sess.run(init)\n",
        "for epoches in range(n_epoche):\n",
        "  for epoche in range(len(train)//batch_size):\n",
        "    offset = (epoche * batch_size) % (len(train_labels) - batch_size)\n",
        "    batch_x = train[offset:(offset+batch_size)]\n",
        "    batch_y = train_labels[offset:(offset+batch_size)]\n",
        "\n",
        "    o,c = sess.run([optimizer,cost],\\\n",
        "                              feed_dict = {x:batch_x, y:batch_y})\n",
        "   \n",
        "  train_acc = sess.run(accuracy, feed_dict = {x:train, y:train_labels})\n",
        "  if epoches % 1 == 0 or epoches == 0:\n",
        "    val_loss, val_pred = sess.run([cost,pred],\\\n",
        "                                  feed_dict = {x:val,y:val_labels})\n",
        "    val_acc = sess.run(accuracy, feed_dict = {x:val,y:val_labels})\n",
        "    message = \"epoche {:0d} : train_loss = {:02.02f}, train_acc = {:02.4f}, val_loss = {:02.02f}, val_acc = {:02.04f}\".format(epoches, c, train_acc, val_loss, val_acc)\n",
        "    test_acc = sess.run(accuracy, feed_dict = {x:test, y:test_labels})\n",
        "    print(message)\n",
        "  hist['train_acc'].append(train_acc)\n",
        "  hist['train_loss'].append(c)\n",
        "  hist['val_acc'].append(val_acc)\n",
        "  hist['val_loss'].append(val_loss)\n",
        "  #Saving model\n",
        "  saved_path = saver.save(sess, '/content/gdrive/My Drive/my-model.ckpt', global_step=epoche)\n",
        "  if epoches == n_epoche-1: \n",
        "    print(\"Training done!\")\n",
        "    print(\"Test_Accuracy:\",test_acc)"
      ],
      "execution_count": 0,
      "outputs": []
    },
    {
      "metadata": {
        "id": "pLiiMq53-nE-",
        "colab_type": "text"
      },
      "cell_type": "markdown",
      "source": [
        "Saving the weights and biases of this model. They are stored in '/content/gdrive/My Drive/filename' path. We can mount the google drive, access this path to read in the hyper-parameters.\n",
        "\n",
        "\n"
      ]
    },
    {
      "metadata": {
        "id": "sg1DZoW4a5ny",
        "colab_type": "code",
        "colab": {}
      },
      "cell_type": "code",
      "source": [
        "import pickle\n",
        "W_in = sess.run(W['h1'])\n",
        "W_out = sess.run(W['out'])\n",
        "b_in = sess.run(b['b1'])\n",
        "b_out = sess.run(b['b_out'])\n",
        "\n",
        "weights = {'W1':W_in, 'W2': W_out}\n",
        "biases = {'b1':b_in, 'b2': b_out}\n",
        "\n",
        "from google.colab import drive\n",
        "drive.mount('/content/gdrive')\n",
        "f = open('/content/gdrive/My Drive/weights.pickle', 'wb')\n",
        "pickle.dump(weights,f)\n",
        "f.close()\n",
        "\n",
        "f = open('/content/gdrive/My Drive/biases.pickle', 'wb')\n",
        "pickle.dump(biases,f)\n",
        "f.close()\n",
        "\n",
        "f = open('/content/gdrive/My Drive/history.pickle', 'wb')\n",
        "pickle.dump(hist,f)\n",
        "f.close()"
      ],
      "execution_count": 0,
      "outputs": []
    },
    {
      "metadata": {
        "id": "-P0qX_1o--rr",
        "colab_type": "text"
      },
      "cell_type": "markdown",
      "source": [
        "Evaluating on test dataset it gives an accuracy of ~92%. The training dataset had 60,000 samples to train on. In the research paper “Part-of-Speech Tagging with Neural Networks” by Helmud Schmid, they claim to get a very similar performance for a dataset of size 60,000.",
        "I believe this model well generalizes over unseen data as this model never saw the test dataset."
      ]
    },
    {
      "metadata": {
        "id": "umDaCB2LAQnQ",
        "colab_type": "code",
        "colab": {
          "base_uri": "https://localhost:8080/",
          "height": 67
        },
        "outputId": "fd5de054-f573-4554-b4cd-16a6d3b70d3e"
      },
      "cell_type": "code",
      "source": [
        "train_acc = sess.run(accuracy, feed_dict = {x:train, y:train_labels})\n",
        "val_acc = sess.run(accuracy, feed_dict = {x:val, y:val_labels})\n",
        "test_acc = sess.run(accuracy, feed_dict = {x:test, y:test_labels})\n",
        "\n",
        "print(\"Train_Accuracy:\",train_acc)\n",
        "print(\"Validation_Accuracy:\",val_acc)\n",
        "print(\"Test_Accuracy:\",test_acc)"
      ],
      "execution_count": 35,
      "outputs": [
        {
          "output_type": "stream",
          "text": [
            "Train_Accuracy: 0.98783255\n",
            "Validation_Accuracy: 0.907463\n",
            "Test_Accuracy: 0.91995484\n"
          ],
          "name": "stdout"
        }
      ]
    },
    {
      "metadata": {
        "id": "ksvbv2cXAddA",
        "colab_type": "text"
      },
      "cell_type": "markdown",
      "source": [
        "Plotting train and validation accuracy vs interations"
      ]
    },
    {
      "metadata": {
        "id": "VG3xSTGJZJCx",
        "colab_type": "code",
        "colab": {
          "base_uri": "https://localhost:8080/",
          "height": 378
        },
        "outputId": "bb3f2439-d7e8-40a6-8cb4-375be06c4714"
      },
      "cell_type": "code",
      "source": [
        "plt.plot(hist['train_acc'])\n",
        "plt.plot(hist['val_acc'])\n",
        "plt.xlabel('Iterations')\n",
        "plt.ylabel('Accuracy')\n",
        "plt.legend(['Training', 'Validation'])"
      ],
      "execution_count": 32,
      "outputs": [
        {
          "output_type": "execute_result",
          "data": {
            "text/plain": [
              "<matplotlib.legend.Legend at 0x7f783e781ef0>"
            ]
          },
          "metadata": {
            "tags": []
          },
          "execution_count": 32
        },
        {
          "output_type": "display_data",
          "data": {
            "image/png": "[encoded data removed]",
            "text/plain": [
              "<Figure size 576x396 with 1 Axes>"
            ]
          },
          "metadata": {
            "tags": []
          }
        }
      ]
    },
    {
      "metadata": {
        "id": "qQoBXvMwAoRx",
        "colab_type": "text"
      },
      "cell_type": "markdown",
      "source": [
        "Plotting train and validation loss vs iterations"
      ]
    },
    {
      "metadata": {
        "id": "zzXzvYoOhiP0",
        "colab_type": "code",
        "colab": {
          "base_uri": "https://localhost:8080/",
          "height": 378
        },
        "outputId": "4f86ae0d-24cb-40a1-8209-a6d85ccdc747"
      },
      "cell_type": "code",
      "source": [
        "plt.plot(hist['train_loss'])\n",
        "plt.plot(hist['val_loss'])\n",
        "plt.xlabel('Iterations')\n",
        "plt.ylabel('Loss')\n",
        "plt.legend(['Training', 'Validation'])"
      ],
      "execution_count": 33,
      "outputs": [
        {
          "output_type": "execute_result",
          "data": {
            "text/plain": [
              "<matplotlib.legend.Legend at 0x7f7851882e10>"
            ]
          },
          "metadata": {
            "tags": []
          },
          "execution_count": 33
        },
        {
          "output_type": "display_data",
          "data": {
            "image/png": "[encoded data removed]",
            "text/plain": [
              "<Figure size 576x396 with 1 Axes>"
            ]
          },
          "metadata": {
            "tags": []
          }
        }
      ]
    },
    {
      "metadata": {
        "id": "RD3zDkfBAytM",
        "colab_type": "text"
      },
      "cell_type": "markdown",
      "source": [
        "This performance was achieved by using a simple feed forward network with just one hidden layer. Judging from the plots I can say this model did not overfit and well generalizes over unseen data. I have attached a the weights abd baises pickle files with this submission."
      ]
    }
  ]
}
